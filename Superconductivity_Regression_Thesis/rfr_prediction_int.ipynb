{
 "cells": [
  {
   "cell_type": "markdown",
   "metadata": {},
   "source": [
    "The code in this notebook holds the codified version of calculating the prediction intervals for predictions made using a Random Forest Regression model. The measures used for the determination of such intervals are the Mean Squared Prediction Error 1 and 2 (MSPE1/MSPE2). These measures were developed by Benjamin Lu, with advisement from Dr. Jo Hardin, of Pomona College as part of his Senior Thesis in Mathematics. The entire reserach paper can be found [here](http://pages.pomona.edu/~jsh04747/Student%20Theses/BenjiLu17.pdf).\n",
    "\n",
    "Note, only the MSPE1 is codified."
   ]
  },
  {
   "cell_type": "code",
   "execution_count": null,
   "metadata": {},
   "outputs": [],
   "source": [
    "# Required packages\n",
    "\n",
    "'''\n",
    "sklearn.ensemble.RandomForestRegressor\n",
    "'''"
   ]
  },
  {
   "cell_type": "code",
   "execution_count": null,
   "metadata": {},
   "outputs": [],
   "source": [
    "# Other requirements\n",
    "\n",
    "'''\n",
    "- The RFR must be fit with the 'oob_score' = True\n",
    "'''"
   ]
  },
  {
   "cell_type": "markdown",
   "metadata": {},
   "source": [
    "Mean Squared Prediciton Error 1 (MSPE1)"
   ]
  },
  {
   "cell_type": "markdown",
   "metadata": {},
   "source": [
    "![name](img/mspe1.png)"
   ]
  },
  {
   "cell_type": "code",
   "execution_count": null,
   "metadata": {},
   "outputs": [],
   "source": [
    "def mspe_one(train_sample, train_labels, rfr):\n",
    "    \n",
    "    # This function serves to calculate the mean squared prediction error of a Random Forest Regression (RFR) model.\n",
    "    # This measure is nonspecific to the independent values.\n",
    "    \n",
    "    # train_sample = sample used to train the RFR\n",
    "    # train_labels = true dependent values of train samples\n",
    "    # rfr = trained RFR model\n",
    "    \n",
    "    n = train_sample.shape[0] # setting the sample size\n",
    "    oob_preds = rfr.oob_prediction_ # an array of the predictions for each point in the train sample using out-of-bag trees\n",
    "    \n",
    "    oob_diff = oob_preds - train_labels # calculate the difference between each oob prediction and true value\n",
    "    \n",
    "    mspe = (sum((oob_diff)**2))/n # calculate the MSPE using the oob true-prediction differences\n",
    "    \n",
    "    return(mspe) # return the MSPE"
   ]
  },
  {
   "cell_type": "markdown",
   "metadata": {},
   "source": [
    "The 95% prediction interval is calculated by using the MSPE in the following formulas:\n",
    "    ![name](img/95_pred_int.png)\n",
    "    \n"
   ]
  }
 ],
 "metadata": {
  "kernelspec": {
   "display_name": "Python 3",
   "language": "python",
   "name": "python3"
  },
  "language_info": {
   "codemirror_mode": {
    "name": "ipython",
    "version": 3
   },
   "file_extension": ".py",
   "mimetype": "text/x-python",
   "name": "python",
   "nbconvert_exporter": "python",
   "pygments_lexer": "ipython3",
   "version": "3.6.8"
  }
 },
 "nbformat": 4,
 "nbformat_minor": 2
}
