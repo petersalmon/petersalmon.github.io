{
 "cells": [
  {
   "cell_type": "markdown",
   "metadata": {},
   "source": [
    "# 2019 Thesis Project: Automated Text Summarization"
   ]
  },
  {
   "cell_type": "markdown",
   "metadata": {},
   "source": [
    "This notebook is meant to serve as the initial draft of my, Peter Salamon, master's thesis. \n",
    "\n",
    "The topic of my thesis will be automated text summarization using neural abstractive methods. Automated text summarization can provide a huge benefit to professionals who consistently deal with lengthly and convoluted documents full of information. Reserachers, for example, pour over countless scientific and scholarly articles over the course of their projects and careers. By extracting only the most important portions of a scientific journal article, researchers may quickly identify documents worth while going over in more detail saving large amounts of time and increasing their efficiency.\n",
    "\n",
    "My initial thoughts are to build a seq2seq encoder-decoder type neural model which is widely used today. This model will be built using LSTMs and then be improved upon and adapted to summarize a particular domain or medium. For the data, we will be using a collection of 900,000 scientific journal articles paired with their abstracts which was collected by Nikolov et al. as part of their paper entitled *'Data-driven Summarization of Scientific Articles'*   (https://ninikolov.github.io/blog/2018/05/18/data-driven-summarization). \n",
    "\n",
    "Table of Contents:\n",
    "\n",
    "1. [Seq2Seq Model](#Seq2Seq-Model)\n",
    "2. [Preprocessing the Data](#Preprocessing-the-Data)\n",
    "3. [Tokenization](#Tokenization)\n",
    "4. [Model](#Model)\n",
    "5. [Model Diagnostics](#Model-Diagnostics)\n"
   ]
  },
  {
   "cell_type": "markdown",
   "metadata": {},
   "source": [
    "## Seq2Seq Model"
   ]
  },
  {
   "cell_type": "markdown",
   "metadata": {},
   "source": [
    "The Sequence-to-Sequence (Seq2Seq) model is a specific type of Recurrent Neural Network specifically design for probems in which one sequence of words must be translated into another sequence of words. This is ideal for our purposes of text summarization as the goal is to take a document of words and translate it into a smaller collection of words while capturing the same amount of information. \n",
    "\n",
    "The Seq2Seq model consitsts of two parts: the **Encoder** and **Decoder**. Each part consists of it's own neural network. The two are connected to form a single, larger neural network structure. Broadly speaking, the Encoder is tasked with understanding and reducing the dimensions of the input text while the Decoder translates this smaller represnetation into a comprehensible collection of words and sentences. The type of neural network employed to build the this model is the Recurrent Neural Network; more specifically, either the Gated Recurrent Neural Network (GRU) or Long Short Term Memory (LSTM). Both variations of RNNs are capable of extracting sequential patterns from the data they ingest but here, we will use the LSTM as it has been widely used as the standard architecture for Seq2Seq models.\n",
    "\n",
    "Durng training of the Seq2Seq model, the Encoder reades the input sequence one word at a time at each time step. The Encoder then captures the context of the input sequence. At each time step, Each LSTM is initialized by a hidden state (h) and a cell state (c). The first node in the Encoder is initialized by a zero vector or a random vector. As you pass from the Encoder to the Decoder, the Decoder is initialized using the final states of the Encoder. The Decoder now reads the entire target sequence word by word, just like the Encoder, and predicts the same sequence offset by one timestep. The decoder is trained to predict the putput sequence based on the input sewuence recieved by the Encoder. 'start' and 'end' tokens are attached to training sequences to induce the prediction processes. Based on the initlaization weights, and a start token, the Decoder will produce a output sequence..\n",
    "\n",
    "When the Decoder produces the output, it does so by determining the word with the highest probability of appearing in the sequence. This is often not ideal as it does not take the words that came before it into account leading to nonsensical senetences being made. For the Decoder to produce the optimal output, there are two general techniques that are employed: **Beam Search** and **Attention Mechanism**. In Beam Search, the probability of the entirety fo each sequence is calculated as oppose to each word in the sequence individually. The sequence with the highest probability is select as the final output. The Attention Mechansim, on the other hand, takes input from each time step of the encoder and applies a weight to each time step. The weight depends on the importance of that time step for the decoder to optimally generate the next word in the sequence. This Attention Mechanism basically considers how much attention needs to be paid to every word in the input sequence in order to generate a word at a particular time step. This overcomes the shortsoming of the Seq2Seq model which is that its performance decreases as the leangth of the input sequence increases. The Attention Mechanism, however, only focuses on portions of the sequence using these weights that it applies.\n",
    "\n",
    "There are 2 different classes of Attention Mechanism: **Global Attention** and **Local Attention**. The Global Attention Mechanism takes into consideration all the hidden states of the encoder for the production of the context vector while the Local Attention Mechanism uses a few hidden weights to produce the context vector. "
   ]
  },
  {
   "cell_type": "code",
   "execution_count": 1,
   "metadata": {},
   "outputs": [
    {
     "name": "stderr",
     "output_type": "stream",
     "text": [
      "/anaconda3/lib/python3.6/site-packages/h5py/__init__.py:36: FutureWarning: Conversion of the second argument of issubdtype from `float` to `np.floating` is deprecated. In future, it will be treated as `np.float64 == np.dtype(float).type`.\n",
      "  from ._conv import register_converters as _register_converters\n",
      "Using TensorFlow backend.\n"
     ]
    }
   ],
   "source": [
    "import numpy as np\n",
    "import pandas as pd\n",
    "import matplotlib.pyplot as plt\n",
    "import seaborn as sns\n",
    "import re\n",
    "from bs4 import BeautifulSoup\n",
    "from keras.preprocessing.text import Tokenizer \n",
    "from keras.preprocessing.sequence import pad_sequences\n",
    "from nltk.corpus import stopwords\n",
    "from tensorflow.keras.layers import Input, LSTM, Embedding, Dense, Concatenate, TimeDistributed\n",
    "from tensorflow.keras.models import Model\n",
    "from tensorflow.keras.callbacks import EarlyStopping\n",
    "import warnings\n",
    "pd.set_option(\"display.max_colwidth\", 200)\n",
    "warnings.filterwarnings(\"ignore\")\n",
    "%matplotlib inline"
   ]
  },
  {
   "cell_type": "markdown",
   "metadata": {},
   "source": [
    "## Preprocessing the Data"
   ]
  },
  {
   "cell_type": "markdown",
   "metadata": {},
   "source": [
    "Below is a list of actions we would like to take on the data before we utilize it for training or testing:\n",
    "\n",
    "1.Convert all letters to lowercase\n",
    "\n",
    "3.Contraction mapping\n",
    "\n",
    "4.Remove (‘s)\n",
    "\n",
    "5.Remove any text within parentheses\n",
    "\n",
    "6.Eliminate punctuation \n",
    "\n",
    "7.Remove stopwords\n",
    "\n",
    "8.Remove short words"
   ]
  },
  {
   "cell_type": "code",
   "execution_count": 2,
   "metadata": {
    "scrolled": true
   },
   "outputs": [],
   "source": [
    "# Reading in the dataset\n",
    "\n",
    "# Train data\n",
    "train_abstract = pd.read_csv(\"data/clean.train.abstract.txt\", sep = '\\n', names=[\"Abstract\"], nrows = 1000)\n",
    "train_title = pd.read_csv(\"data/clean.train.title.txt\", sep = '\\n', names=[\"Title\"], nrows = 1000)\n",
    "train = pd.concat([train_abstract, train_title], axis=1)\n",
    "\n",
    "# Validation data\n",
    "val_abstract = pd.read_csv(\"data/clean.valid.abstract.txt\", sep = '\\n', names=[\"Abstract\"], nrows = 100)\n",
    "val_title = pd.read_csv(\"data/clean.valid.title.txt\", sep = '\\n', names=[\"Title\"], nrows = 100)\n",
    "val = pd.concat([val_abstract, val_title], axis=1)\n",
    "\n",
    "# Test data\n",
    "test_abstract = pd.read_csv(\"data/clean.test.abstract.txt\", sep = '\\n', names=[\"Abstract\"], nrows = 100)\n",
    "test_title = pd.read_csv(\"data/clean.test.title.txt\", sep = '\\n', names=[\"Title\"], nrows = 100)\n",
    "test = pd.concat([test_abstract, test_title], axis=1)"
   ]
  },
  {
   "cell_type": "code",
   "execution_count": 3,
   "metadata": {},
   "outputs": [
    {
     "data": {
      "text/html": [
       "<div>\n",
       "<style scoped>\n",
       "    .dataframe tbody tr th:only-of-type {\n",
       "        vertical-align: middle;\n",
       "    }\n",
       "\n",
       "    .dataframe tbody tr th {\n",
       "        vertical-align: top;\n",
       "    }\n",
       "\n",
       "    .dataframe thead th {\n",
       "        text-align: right;\n",
       "    }\n",
       "</style>\n",
       "<table border=\"1\" class=\"dataframe\">\n",
       "  <thead>\n",
       "    <tr style=\"text-align: right;\">\n",
       "      <th></th>\n",
       "      <th>Abstract</th>\n",
       "      <th>Title</th>\n",
       "    </tr>\n",
       "  </thead>\n",
       "  <tbody>\n",
       "    <tr>\n",
       "      <th>0</th>\n",
       "      <td>A prenatal screening program for antibody to the human immunodeficiency virus (HIV) was examined prospectively in a cross-sectional population. Routine screening was performed on 3,241 women durin...</td>\n",
       "      <td>Results of a prenatal screening program for the human immunodeficiency virus in a cross-sectional population.</td>\n",
       "    </tr>\n",
       "    <tr>\n",
       "      <th>1</th>\n",
       "      <td>Research on vaccine criticism on the Internet is now at a crossroads, with an already important body of knowledge published on the subject but also a continuous and even growing interest in the sc...</td>\n",
       "      <td>Vaccine criticism on the Internet: Propositions for future research.</td>\n",
       "    </tr>\n",
       "    <tr>\n",
       "      <th>2</th>\n",
       "      <td>Perfluorooctanoic acid (PFOA) is widely used in the manufacture of many industrial and household products. To assess the potential environmental risk of PFOA, its accumulation, translocation and p...</td>\n",
       "      <td>Accumulation and phytotoxicity of perfluorooctanoic acid in the model plant species Arabidopsis thaliana.</td>\n",
       "    </tr>\n",
       "  </tbody>\n",
       "</table>\n",
       "</div>"
      ],
      "text/plain": [
       "                                                                                                                                                                                                  Abstract  \\\n",
       "0  A prenatal screening program for antibody to the human immunodeficiency virus (HIV) was examined prospectively in a cross-sectional population. Routine screening was performed on 3,241 women durin...   \n",
       "1  Research on vaccine criticism on the Internet is now at a crossroads, with an already important body of knowledge published on the subject but also a continuous and even growing interest in the sc...   \n",
       "2  Perfluorooctanoic acid (PFOA) is widely used in the manufacture of many industrial and household products. To assess the potential environmental risk of PFOA, its accumulation, translocation and p...   \n",
       "\n",
       "                                                                                                           Title  \n",
       "0  Results of a prenatal screening program for the human immunodeficiency virus in a cross-sectional population.  \n",
       "1                                           Vaccine criticism on the Internet: Propositions for future research.  \n",
       "2      Accumulation and phytotoxicity of perfluorooctanoic acid in the model plant species Arabidopsis thaliana.  "
      ]
     },
     "execution_count": 3,
     "metadata": {},
     "output_type": "execute_result"
    }
   ],
   "source": [
    "train.head(3)"
   ]
  },
  {
   "cell_type": "code",
   "execution_count": 4,
   "metadata": {},
   "outputs": [
    {
     "name": "stdout",
     "output_type": "stream",
     "text": [
      "<class 'pandas.core.frame.DataFrame'>\n",
      "RangeIndex: 1000 entries, 0 to 999\n",
      "Data columns (total 2 columns):\n",
      "Abstract    1000 non-null object\n",
      "Title       1000 non-null object\n",
      "dtypes: object(2)\n",
      "memory usage: 15.7+ KB\n",
      "None\n",
      "<class 'pandas.core.frame.DataFrame'>\n",
      "RangeIndex: 100 entries, 0 to 99\n",
      "Data columns (total 2 columns):\n",
      "Abstract    100 non-null object\n",
      "Title       100 non-null object\n",
      "dtypes: object(2)\n",
      "memory usage: 1.6+ KB\n",
      "None\n",
      "<class 'pandas.core.frame.DataFrame'>\n",
      "RangeIndex: 100 entries, 0 to 99\n",
      "Data columns (total 2 columns):\n",
      "Abstract    100 non-null object\n",
      "Title       100 non-null object\n",
      "dtypes: object(2)\n",
      "memory usage: 1.6+ KB\n",
      "None\n"
     ]
    }
   ],
   "source": [
    "# Let's get some info about our data\n",
    "for frame in [train, val, test]:\n",
    "    print(frame.info())"
   ]
  },
  {
   "cell_type": "code",
   "execution_count": 5,
   "metadata": {},
   "outputs": [],
   "source": [
    "# Here is a contraction mapping dictionary that we will use to expand abbreviated words and phrases in our data\n",
    "contraction_map = {\"ain't\": \"is not\", \n",
    "                   \"aren't\": \"are not\",\n",
    "                   \"can't\": \"cannot\", \n",
    "                   \"'cause\": \"because\", \n",
    "                   \"could've\": \"could have\", \n",
    "                   \"couldn't\": \"could not\",\n",
    "                   \"didn't\": \"did not\", \n",
    "                   \"doesn't\": \"does not\", \n",
    "                   \"don't\": \"do not\", \n",
    "                   \"hadn't\": \"had not\", \n",
    "                   \"hasn't\": \"has not\", \n",
    "                   \"haven't\": \"have not\",\n",
    "                   \"he'd\": \"he would\",\n",
    "                   \"he'll\": \"he will\", \n",
    "                   \"he's\": \"he is\", \n",
    "                   \"how'd\": \"how did\", \n",
    "                   \"how'd'y\": \"how do you\", \n",
    "                   \"how'll\": \"how will\", \n",
    "                   \"how's\": \"how is\",\n",
    "                   \"I'd\": \"I would\", \n",
    "                   \"I'd've\": \"I would have\", \n",
    "                   \"I'll\": \"I will\", \n",
    "                   \"I'll've\": \"I will have\",\n",
    "                   \"I'm\": \"I am\", \n",
    "                   \"I've\": \"I have\", \n",
    "                   \"i'd\": \"i would\",\n",
    "                   \"i'd've\": \"i would have\", \n",
    "                   \"i'll\": \"i will\",  \n",
    "                   \"i'll've\": \"i will have\",\n",
    "                   \"i'm\": \"i am\", \n",
    "                   \"i've\": \"i have\", \n",
    "                   \"isn't\": \"is not\", \n",
    "                   \"it'd\": \"it would\",\n",
    "                   \"it'd've\": \"it would have\", \n",
    "                   \"it'll\": \"it will\", \n",
    "                   \"it'll've\": \"it will have\",\n",
    "                   \"it's\": \"it is\", \n",
    "                   \"let's\": \"let us\", \n",
    "                   \"ma'am\": \"madam\",\n",
    "                   \"mayn't\": \"may not\", \n",
    "                   \"might've\": \"might have\",\n",
    "                   \"mightn't\": \"might not\",\n",
    "                   \"mightn't've\": \"might not have\", \n",
    "                   \"must've\": \"must have\",\n",
    "                   \"mustn't\": \"must not\", \n",
    "                   \"mustn't've\": \"must not have\", \n",
    "                   \"needn't\": \"need not\", \n",
    "                   \"needn't've\": \"need not have\",\n",
    "                   \"o'clock\": \"of the clock\",\n",
    "                   \"oughtn't\": \"ought not\", \n",
    "                   \"oughtn't've\": \"ought not have\", \n",
    "                   \"shan't\": \"shall not\", \n",
    "                   \"sha'n't\": \"shall not\", \n",
    "                   \"shan't've\": \"shall not have\",\n",
    "                   \"she'd\": \"she would\", \n",
    "                   \"she'd've\": \"she would have\", \n",
    "                   \"she'll\": \"she will\", \n",
    "                   \"she'll've\": \"she will have\", \n",
    "                   \"she's\": \"she is\",\n",
    "                   \"should've\": \"should have\", \n",
    "                   \"shouldn't\": \"should not\", \n",
    "                   \"shouldn't've\": \"should not have\", \n",
    "                   \"so've\": \"so have\",\n",
    "                   \"so's\": \"so as\",\n",
    "                   \"this's\": \"this is\",\n",
    "                   \"that'd\": \"that would\", \n",
    "                   \"that'd've\": \"that would have\", \n",
    "                   \"that's\": \"that is\", \n",
    "                   \"there'd\": \"there would\",\n",
    "                   \"there'd've\": \"there would have\", \n",
    "                   \"there's\": \"there is\", \n",
    "                   \"here's\": \"here is\",\n",
    "                   \"they'd\": \"they would\", \n",
    "                   \"they'd've\": \"they would have\",\n",
    "                   \"they'll\": \"they will\", \n",
    "                   \"they'll've\": \"they will have\", \n",
    "                   \"they're\": \"they are\", \n",
    "                   \"they've\": \"they have\", \n",
    "                   \"to've\": \"to have\",\n",
    "                   \"wasn't\": \"was not\", \n",
    "                   \"we'd\": \"we would\", \n",
    "                   \"we'd've\": \"we would have\", \n",
    "                   \"we'll\": \"we will\", \n",
    "                   \"we'll've\": \"we will have\", \n",
    "                   \"we're\": \"we are\",\n",
    "                   \"we've\": \"we have\", \n",
    "                   \"weren't\": \"were not\", \n",
    "                   \"what'll\": \"what will\", \n",
    "                   \"what'll've\": \"what will have\", \n",
    "                   \"what're\": \"what are\",\n",
    "                   \"what's\": \"what is\", \n",
    "                   \"what've\": \"what have\", \n",
    "                   \"when's\": \"when is\", \n",
    "                   \"when've\": \"when have\", \n",
    "                   \"where'd\": \"where did\", \n",
    "                   \"where's\": \"where is\",\n",
    "                   \"where've\": \"where have\", \n",
    "                   \"who'll\": \"who will\", \n",
    "                   \"who'll've\": \"who will have\", \n",
    "                   \"who's\": \"who is\", \n",
    "                   \"who've\": \"who have\",\n",
    "                   \"why's\": \"why is\", \n",
    "                   \"why've\": \"why have\", \n",
    "                   \"will've\": \"will have\", \n",
    "                   \"won't\": \"will not\", \n",
    "                   \"won't've\": \"will not have\",\n",
    "                   \"would've\": \"would have\", \n",
    "                   \"wouldn't\": \"would not\", \n",
    "                   \"wouldn't've\": \"would not have\", \n",
    "                   \"y'all\": \"you all\",\n",
    "                   \"y'all'd\": \"you all would\",\n",
    "                   \"y'all'd've\": \"you all would have\",\n",
    "                   \"y'all're\": \"you all are\",\n",
    "                   \"y'all've\": \"you all have\",\n",
    "                   \"you'd\": \"you would\", \n",
    "                   \"you'd've\": \"you would have\", \n",
    "                   \"you'll\": \"you will\", \n",
    "                   \"you'll've\": \"you will have\",\n",
    "                   \"you're\": \"you are\", \n",
    "                   \"you've\": \"you have\"}"
   ]
  },
  {
   "cell_type": "code",
   "execution_count": 6,
   "metadata": {},
   "outputs": [],
   "source": [
    "# Let's create a function that will perform all of the necessary preprocessing steps for us\n",
    "    \n",
    "stop_words = set(stopwords.words('english')) \n",
    "def preprocess(text):\n",
    "    new_string = str(text).lower()    # All letters to lowercase    \n",
    "    new_string = re.sub(r'\\([^)]*\\)', '', new_string) # Remove parentheses\n",
    "    new_string = re.sub('\"','', new_string) # Removing quotation marks\n",
    "    new_string = ' '.join([contraction_map[t] if t in contraction_map else t for t in new_string.split(\" \")]) # Expnading contracted words    \n",
    "    new_string = re.sub(r\"'s\\b\",\"\",new_string) # Remove apostrophes\n",
    "    new_string = re.sub(\"[^a-zA-Z]\", \" \", new_string) # Remove all non-alphabetic characters\n",
    "    tokens = [w for w in new_string.split() if not w in stop_words]\n",
    "    long_words=[]\n",
    "    for i in tokens:\n",
    "        if len(i)>=3:                  # Removing short word\n",
    "            long_words.append(i)   \n",
    "    return (\" \".join(long_words)).strip()\n",
    "    "
   ]
  },
  {
   "cell_type": "code",
   "execution_count": 7,
   "metadata": {},
   "outputs": [],
   "source": [
    "# Cleaning the datasets by applying our function\n",
    "\n",
    "train['Title'] = train['Title'].apply(lambda seq : 'lazap '+ preprocess(seq) + ' pazal')\n",
    "train['Abstract'] = train['Abstract'].apply(lambda seq : preprocess(seq))\n",
    "\n",
    "val['Title'] = val['Title'].apply(lambda seq : 'lazap '+ preprocess(seq) + ' pazal')\n",
    "val['Abstract'] = val['Abstract'].apply(lambda seq : preprocess(seq))\n",
    "\n",
    "test['Title'] = test['Title'].apply(lambda seq : 'lazap '+ preprocess(seq) + ' pazal')\n",
    "test['Abstract'] = test['Abstract'].apply(lambda seq : preprocess(seq))\n"
   ]
  },
  {
   "cell_type": "code",
   "execution_count": 8,
   "metadata": {},
   "outputs": [
    {
     "data": {
      "text/html": [
       "<div>\n",
       "<style scoped>\n",
       "    .dataframe tbody tr th:only-of-type {\n",
       "        vertical-align: middle;\n",
       "    }\n",
       "\n",
       "    .dataframe tbody tr th {\n",
       "        vertical-align: top;\n",
       "    }\n",
       "\n",
       "    .dataframe thead th {\n",
       "        text-align: right;\n",
       "    }\n",
       "</style>\n",
       "<table border=\"1\" class=\"dataframe\">\n",
       "  <thead>\n",
       "    <tr style=\"text-align: right;\">\n",
       "      <th></th>\n",
       "      <th>Abstract</th>\n",
       "      <th>Title</th>\n",
       "    </tr>\n",
       "  </thead>\n",
       "  <tbody>\n",
       "    <tr>\n",
       "      <th>0</th>\n",
       "      <td>prenatal screening program antibody human immunodeficiency virus examined prospectively cross sectional population routine screening performed women first trimester serum samples yielding repeated...</td>\n",
       "      <td>lazap results prenatal screening program human immunodeficiency virus cross sectional population pazal</td>\n",
       "    </tr>\n",
       "    <tr>\n",
       "      <th>1</th>\n",
       "      <td>research vaccine criticism internet crossroads already important body knowledge published subject also continuous even growing interest scientific community commentary reflect published literature...</td>\n",
       "      <td>lazap vaccine criticism internet propositions future research pazal</td>\n",
       "    </tr>\n",
       "    <tr>\n",
       "      <th>2</th>\n",
       "      <td>perfluorooctanoic acid widely used manufacture many industrial household products assess potential environmental risk pfoa accumulation translocation phytotoxic effects investigated using model pl...</td>\n",
       "      <td>lazap accumulation phytotoxicity perfluorooctanoic acid model plant species arabidopsis thaliana pazal</td>\n",
       "    </tr>\n",
       "  </tbody>\n",
       "</table>\n",
       "</div>"
      ],
      "text/plain": [
       "                                                                                                                                                                                                  Abstract  \\\n",
       "0  prenatal screening program antibody human immunodeficiency virus examined prospectively cross sectional population routine screening performed women first trimester serum samples yielding repeated...   \n",
       "1  research vaccine criticism internet crossroads already important body knowledge published subject also continuous even growing interest scientific community commentary reflect published literature...   \n",
       "2  perfluorooctanoic acid widely used manufacture many industrial household products assess potential environmental risk pfoa accumulation translocation phytotoxic effects investigated using model pl...   \n",
       "\n",
       "                                                                                                    Title  \n",
       "0  lazap results prenatal screening program human immunodeficiency virus cross sectional population pazal  \n",
       "1                                     lazap vaccine criticism internet propositions future research pazal  \n",
       "2  lazap accumulation phytotoxicity perfluorooctanoic acid model plant species arabidopsis thaliana pazal  "
      ]
     },
     "execution_count": 8,
     "metadata": {},
     "output_type": "execute_result"
    }
   ],
   "source": [
    "train.head(3)"
   ]
  },
  {
   "cell_type": "code",
   "execution_count": 9,
   "metadata": {},
   "outputs": [],
   "source": [
    "# We will need to set a maximum summary length for our Decoder during testing; let's analyze the length of our current\n",
    "# Abstracts and Bodies\n",
    "\n",
    "seq_len_df = pd.DataFrame(columns=['Abstract Length','Title Length'])\n",
    "seq_len_df['Abstract Length'] = train['Abstract'].apply(lambda seq : len(seq.split()))\n",
    "seq_len_df['Title Length'] = train['Title'].apply(lambda seq : len(seq.split()))"
   ]
  },
  {
   "cell_type": "code",
   "execution_count": 10,
   "metadata": {},
   "outputs": [
    {
     "data": {
      "text/plain": [
       "<matplotlib.axes._subplots.AxesSubplot at 0x1a2299de10>"
      ]
     },
     "execution_count": 10,
     "metadata": {},
     "output_type": "execute_result"
    },
    {
     "data": {
      "image/png": "[encoded data removed]",
      "text/plain": [
       "<Figure size 864x432 with 1 Axes>"
      ]
     },
     "metadata": {},
     "output_type": "display_data"
    }
   ],
   "source": [
    "# Getting a distribution of the article title word length; it looks like most of the titles are less than 20 words long\n",
    "sns.set_style(\"darkgrid\")\n",
    "sns.set(font_scale = 1.5)\n",
    "plt.figure(figsize=(12, 6))\n",
    "\n",
    "\n",
    "sns.distplot(seq_len_df['Title Length'], kde = False)"
   ]
  },
  {
   "cell_type": "code",
   "execution_count": 11,
   "metadata": {},
   "outputs": [
    {
     "data": {
      "text/plain": [
       "<matplotlib.axes._subplots.AxesSubplot at 0x1a2299d828>"
      ]
     },
     "execution_count": 11,
     "metadata": {},
     "output_type": "execute_result"
    },
    {
     "data": {
      "image/png": "[encoded data removed]",
      "text/plain": [
       "<Figure size 864x432 with 1 Axes>"
      ]
     },
     "metadata": {},
     "output_type": "display_data"
    }
   ],
   "source": [
    "# Getting a distribution of the abstract word length; it looks like most of the abstracts are less than 200 words long\n",
    "sns.set_style(\"darkgrid\")\n",
    "sns.set(font_scale = 1.5)\n",
    "plt.figure(figsize=(12, 6))\n",
    "\n",
    "\n",
    "sns.distplot(seq_len_df['Abstract Length'], kde = False)"
   ]
  },
  {
   "cell_type": "code",
   "execution_count": 12,
   "metadata": {},
   "outputs": [],
   "source": [
    "max_len_body = 200\n",
    "max_len_summary = 20"
   ]
  },
  {
   "cell_type": "markdown",
   "metadata": {},
   "source": [
    "## Tokenization"
   ]
  },
  {
   "cell_type": "markdown",
   "metadata": {},
   "source": [
    "Now, we must perform tokenization in which our textual data is converted into a numerical form which tour model will be able to understand and manipulate."
   ]
  },
  {
   "cell_type": "code",
   "execution_count": 13,
   "metadata": {},
   "outputs": [],
   "source": [
    "# Breaking apart the dataframes\n",
    "\n",
    "x_train = train['Abstract']\n",
    "y_train = train['Title']\n",
    "\n",
    "x_val = val['Abstract']\n",
    "y_val = val['Title']\n",
    "\n",
    "x_test = test['Abstract']\n",
    "y_test = test['Title']\n"
   ]
  },
  {
   "cell_type": "code",
   "execution_count": 14,
   "metadata": {},
   "outputs": [],
   "source": [
    "# Abstract tokenization\n",
    "\n",
    "x_tokenizer = Tokenizer()\n",
    "x_tokenizer.fit_on_texts(list(x_train))\n",
    "\n",
    "#convert text sequences into integer sequences\n",
    "x_train = x_tokenizer.texts_to_sequences(x_train) \n",
    "x_val = x_tokenizer.texts_to_sequences(x_val)\n",
    "x_test = x_tokenizer.texts_to_sequences(x_test)\n",
    "\n",
    "#padding zero upto maximum length\n",
    "x_train = pad_sequences(x_train,  maxlen = max_len_body, padding = 'post') \n",
    "x_val = pad_sequences(x_val, maxlen = max_len_body, padding = 'post')\n",
    "x_test = pad_sequences(x_test, maxlen = max_len_body, padding = 'post')\n",
    "\n",
    "x_voc_size = len(x_tokenizer.word_index) +1"
   ]
  },
  {
   "cell_type": "code",
   "execution_count": 15,
   "metadata": {},
   "outputs": [],
   "source": [
    "# Summary Tokenization\n",
    "\n",
    "y_tokenizer = Tokenizer()\n",
    "y_tokenizer.fit_on_texts(list(y_train))\n",
    "\n",
    "#convert text sequences into integer sequences\n",
    "y_train = y_tokenizer.texts_to_sequences(y_train) \n",
    "y_val = y_tokenizer.texts_to_sequences(y_val)\n",
    "y_test = y_tokenizer.texts_to_sequences(y_test)\n",
    "\n",
    "#padding zero upto maximum length\n",
    "y_train = pad_sequences(y_train,  maxlen = max_len_body, padding = 'post') \n",
    "y_val = pad_sequences(y_val, maxlen = max_len_body, padding = 'post')\n",
    "y_test = pad_sequences(y_test, maxlen = max_len_body, padding = 'post')\n",
    "\n",
    "y_voc_size = len(y_tokenizer.word_index) +1"
   ]
  },
  {
   "cell_type": "markdown",
   "metadata": {},
   "source": [
    "# Attention Layer"
   ]
  },
  {
   "cell_type": "code",
   "execution_count": 16,
   "metadata": {},
   "outputs": [],
   "source": [
    "# From: https://github.com/thushv89/attention_keras/blob/master/layers/attention.py\n",
    "\n",
    "import tensorflow as tf\n",
    "import os\n",
    "from tensorflow.python.keras.layers import Layer\n",
    "from tensorflow.python.keras import backend as K\n",
    "\n",
    "\n",
    "class AttentionLayer(Layer):\n",
    "    \"\"\"\n",
    "    This class implements Bahdanau attention (https://arxiv.org/pdf/1409.0473.pdf).\n",
    "    There are three sets of weights introduced W_a, U_a, and V_a\n",
    "     \"\"\"\n",
    "\n",
    "    def __init__(self, **kwargs):\n",
    "        super(AttentionLayer, self).__init__(**kwargs)\n",
    "\n",
    "    def build(self, input_shape):\n",
    "        assert isinstance(input_shape, list)\n",
    "        # Create a trainable weight variable for this layer.\n",
    "\n",
    "        self.W_a = self.add_weight(name='W_a',\n",
    "                                   shape=tf.TensorShape((input_shape[0][2], input_shape[0][2])),\n",
    "                                   initializer='uniform',\n",
    "                                   trainable=True)\n",
    "        self.U_a = self.add_weight(name='U_a',\n",
    "                                   shape=tf.TensorShape((input_shape[1][2], input_shape[0][2])),\n",
    "                                   initializer='uniform',\n",
    "                                   trainable=True)\n",
    "        self.V_a = self.add_weight(name='V_a',\n",
    "                                   shape=tf.TensorShape((input_shape[0][2], 1)),\n",
    "                                   initializer='uniform',\n",
    "                                   trainable=True)\n",
    "\n",
    "        super(AttentionLayer, self).build(input_shape)  # Be sure to call this at the end\n",
    "\n",
    "    def call(self, inputs, verbose=False):\n",
    "        \"\"\"\n",
    "        inputs: [encoder_output_sequence, decoder_output_sequence]\n",
    "        \"\"\"\n",
    "        assert type(inputs) == list\n",
    "        encoder_out_seq, decoder_out_seq = inputs\n",
    "        if verbose:\n",
    "            print('encoder_out_seq>', encoder_out_seq.shape)\n",
    "            print('decoder_out_seq>', decoder_out_seq.shape)\n",
    "\n",
    "        def energy_step(inputs, states):\n",
    "            \"\"\" Step function for computing energy for a single decoder state \"\"\"\n",
    "\n",
    "            assert_msg = \"States must be a list. However states {} is of type {}\".format(states, type(states))\n",
    "            assert isinstance(states, list) or isinstance(states, tuple), assert_msg\n",
    "\n",
    "            \"\"\" Some parameters required for shaping tensors\"\"\"\n",
    "            en_seq_len, en_hidden = encoder_out_seq.shape[1], encoder_out_seq.shape[2]\n",
    "            de_hidden = inputs.shape[-1]\n",
    "\n",
    "            \"\"\" Computing S.Wa where S=[s0, s1, ..., si]\"\"\"\n",
    "            # <= batch_size*en_seq_len, latent_dim\n",
    "            reshaped_enc_outputs = K.reshape(encoder_out_seq, (-1, en_hidden))\n",
    "            # <= batch_size*en_seq_len, latent_dim\n",
    "            W_a_dot_s = K.reshape(K.dot(reshaped_enc_outputs, self.W_a), (-1, en_seq_len, en_hidden))\n",
    "            if verbose:\n",
    "                print('wa.s>',W_a_dot_s.shape)\n",
    "\n",
    "            \"\"\" Computing hj.Ua \"\"\"\n",
    "            U_a_dot_h = K.expand_dims(K.dot(inputs, self.U_a), 1)  # <= batch_size, 1, latent_dim\n",
    "            if verbose:\n",
    "                print('Ua.h>',U_a_dot_h.shape)\n",
    "\n",
    "            \"\"\" tanh(S.Wa + hj.Ua) \"\"\"\n",
    "            # <= batch_size*en_seq_len, latent_dim\n",
    "            reshaped_Ws_plus_Uh = K.tanh(K.reshape(W_a_dot_s + U_a_dot_h, (-1, en_hidden)))\n",
    "            if verbose:\n",
    "                print('Ws+Uh>', reshaped_Ws_plus_Uh.shape)\n",
    "\n",
    "            \"\"\" softmax(va.tanh(S.Wa + hj.Ua)) \"\"\"\n",
    "            # <= batch_size, en_seq_len\n",
    "            e_i = K.reshape(K.dot(reshaped_Ws_plus_Uh, self.V_a), (-1, en_seq_len))\n",
    "            # <= batch_size, en_seq_len\n",
    "            e_i = K.softmax(e_i)\n",
    "\n",
    "            if verbose:\n",
    "                print('ei>', e_i.shape)\n",
    "\n",
    "            return e_i, [e_i]\n",
    "\n",
    "        def context_step(inputs, states):\n",
    "            \"\"\" Step function for computing ci using ei \"\"\"\n",
    "            # <= batch_size, hidden_size\n",
    "            c_i = K.sum(encoder_out_seq * K.expand_dims(inputs, -1), axis=1)\n",
    "            if verbose:\n",
    "                print('ci>', c_i.shape)\n",
    "            return c_i, [c_i]\n",
    "\n",
    "        def create_inital_state(inputs, hidden_size):\n",
    "            # We are not using initial states, but need to pass something to K.rnn funciton\n",
    "            fake_state = K.zeros_like(inputs)  # <= (batch_size, enc_seq_len, latent_dim\n",
    "            fake_state = K.sum(fake_state, axis=[1, 2])  # <= (batch_size)\n",
    "            fake_state = K.expand_dims(fake_state)  # <= (batch_size, 1)\n",
    "            fake_state = K.tile(fake_state, [1, hidden_size])  # <= (batch_size, latent_dim\n",
    "            return fake_state\n",
    "\n",
    "        fake_state_c = create_inital_state(encoder_out_seq, encoder_out_seq.shape[-1])\n",
    "        fake_state_e = create_inital_state(encoder_out_seq, encoder_out_seq.shape[1])  # <= (batch_size, enc_seq_len, latent_dim\n",
    "\n",
    "        \"\"\" Computing energy outputs \"\"\"\n",
    "        # e_outputs => (batch_size, de_seq_len, en_seq_len)\n",
    "        last_out, e_outputs, _ = K.rnn(\n",
    "            energy_step, decoder_out_seq, [fake_state_e],\n",
    "        )\n",
    "\n",
    "        \"\"\" Computing context vectors \"\"\"\n",
    "        last_out, c_outputs, _ = K.rnn(\n",
    "            context_step, e_outputs, [fake_state_c],\n",
    "        )\n",
    "\n",
    "        return c_outputs, e_outputs\n",
    "\n",
    "    def compute_output_shape(self, input_shape):\n",
    "        \"\"\" Outputs produced by the layer \"\"\"\n",
    "        return [\n",
    "            tf.TensorShape((input_shape[1][0], input_shape[1][1], input_shape[1][2])),\n",
    "            tf.TensorShape((input_shape[1][0], input_shape[1][1], input_shape[0][1]))\n",
    "        ]"
   ]
  },
  {
   "cell_type": "markdown",
   "metadata": {},
   "source": [
    "## Model "
   ]
  },
  {
   "cell_type": "code",
   "execution_count": 17,
   "metadata": {
    "scrolled": false
   },
   "outputs": [
    {
     "name": "stdout",
     "output_type": "stream",
     "text": [
      "__________________________________________________________________________________________________\n",
      "Layer (type)                    Output Shape         Param #     Connected to                     \n",
      "==================================================================================================\n",
      "input_1 (InputLayer)            (None, 200)          0                                            \n",
      "__________________________________________________________________________________________________\n",
      "input_2 (InputLayer)            (None, None)         0                                            \n",
      "__________________________________________________________________________________________________\n",
      "embedding (Embedding)           (None, 200, 500)     7861000     input_1[0][0]                    \n",
      "__________________________________________________________________________________________________\n",
      "embedding_1 (Embedding)         (None, None, 500)    2270500     input_2[0][0]                    \n",
      "__________________________________________________________________________________________________\n",
      "lstm (LSTM)                     [(None, 200, 500), ( 2002000     embedding[0][0]                  \n",
      "__________________________________________________________________________________________________\n",
      "lstm_1 (LSTM)                   [(None, None, 500),  2002000     embedding_1[0][0]                \n",
      "                                                                 lstm[0][1]                       \n",
      "                                                                 lstm[0][2]                       \n",
      "__________________________________________________________________________________________________\n",
      "attention_layer (AttentionLayer [(None, None, 500),  500500      lstm[0][0]                       \n",
      "                                                                 lstm_1[0][0]                     \n",
      "__________________________________________________________________________________________________\n",
      "concat_layer (Concatenate)      (None, None, 1000)   0           lstm_1[0][0]                     \n",
      "                                                                 attention_layer[0][0]            \n",
      "__________________________________________________________________________________________________\n",
      "time_distributed (TimeDistribut (None, None, 4541)   4545541     concat_layer[0][0]               \n",
      "==================================================================================================\n",
      "Total params: 19,181,541\n",
      "Trainable params: 19,181,541\n",
      "Non-trainable params: 0\n",
      "__________________________________________________________________________________________________\n"
     ]
    }
   ],
   "source": [
    "from keras import backend as K \n",
    "K.clear_session() \n",
    "latent_dim = 500 \n",
    "\n",
    "# Encoder \n",
    "encoder_inputs = Input(shape=(max_len_body,)) \n",
    "enc_emb = Embedding(x_voc_size, latent_dim, trainable=True)(encoder_inputs) \n",
    "\n",
    "#LSTM \n",
    "encoder_lstm = LSTM(latent_dim, return_state = True, return_sequences = True) \n",
    "encoder_outputs, state_h, state_c= encoder_lstm(enc_emb) \n",
    "\n",
    "# Set up the decoder. \n",
    "decoder_inputs = Input(shape = (None,)) \n",
    "dec_emb_layer = Embedding(y_voc_size, latent_dim, trainable = True) \n",
    "dec_emb = dec_emb_layer(decoder_inputs) \n",
    "\n",
    "#LSTM using encoder_states as initial state\n",
    "decoder_lstm = LSTM(latent_dim, return_sequences = True, return_state = True) \n",
    "decoder_outputs, decoder_fwd_state, decoder_back_state = decoder_lstm(dec_emb, initial_state = [state_h, state_c]) \n",
    "\n",
    "#Attention Layer\n",
    "attn_layer = AttentionLayer(name = 'attention_layer') \n",
    "attn_out, attn_states = attn_layer([encoder_outputs, decoder_outputs]) \n",
    "\n",
    "# Concat attention output and decoder LSTM output \n",
    "decoder_concat_input = Concatenate(axis = -1, name = 'concat_layer')([decoder_outputs, attn_out])\n",
    "\n",
    "#Dense layer\n",
    "decoder_dense = TimeDistributed(Dense(y_voc_size, activation = 'softmax')) \n",
    "decoder_outputs = decoder_dense(decoder_concat_input) \n",
    "\n",
    "# Define the model\n",
    "model = Model([encoder_inputs, decoder_inputs], decoder_outputs) \n",
    "model.summary()"
   ]
  },
  {
   "cell_type": "code",
   "execution_count": 18,
   "metadata": {},
   "outputs": [
    {
     "name": "stdout",
     "output_type": "stream",
     "text": [
      "Train on 1000 samples, validate on 100 samples\n",
      "Epoch 1/10\n",
      "1000/1000 [==============================] - 1764s 2s/step - loss: 1.6793 - val_loss: 0.3293\n",
      "Epoch 2/10\n",
      "1000/1000 [==============================] - 1928s 2s/step - loss: 0.4527 - val_loss: 0.3199\n",
      "Epoch 3/10\n",
      "1000/1000 [==============================] - 1953s 2s/step - loss: 0.4305 - val_loss: 0.3092\n",
      "Epoch 4/10\n",
      "1000/1000 [==============================] - 1883s 2s/step - loss: 0.4255 - val_loss: 0.3062\n",
      "Epoch 5/10\n",
      "1000/1000 [==============================] - 1815s 2s/step - loss: 0.4175 - val_loss: 0.3029\n",
      "Epoch 6/10\n",
      "1000/1000 [==============================] - 2151s 2s/step - loss: 0.4096 - val_loss: 0.2982\n",
      "Epoch 7/10\n",
      "1000/1000 [==============================] - 1968s 2s/step - loss: 0.4034 - val_loss: 0.2963\n",
      "Epoch 8/10\n",
      "1000/1000 [==============================] - 1826s 2s/step - loss: 0.3973 - val_loss: 0.2789\n",
      "Epoch 9/10\n",
      "1000/1000 [==============================] - 1818s 2s/step - loss: 0.3911 - val_loss: 0.2786\n",
      "Epoch 10/10\n",
      "1000/1000 [==============================] - 1888s 2s/step - loss: 0.3854 - val_loss: 0.2793\n",
      "Epoch 00010: early stopping\n"
     ]
    }
   ],
   "source": [
    "# Compiling the model\n",
    "model.compile(optimizer='rmsprop', loss='sparse_categorical_crossentropy')\n",
    "\n",
    "# Establishing early stopping to prevent overfitting\n",
    "es = EarlyStopping(monitor='val_loss', mode='min', verbose=1)\n",
    "\n",
    "# Training the model\n",
    "results = model.fit([x_train, y_train[:,:-1]], \n",
    "                    y_train.reshape(y_train.shape[0], y_train.shape[1], 1)[:,1:],\n",
    "                    validation_data = ([x_val, y_val[:,:-1]], y_val.reshape(y_val.shape[0], y_val.shape[1], 1)[:,1:]),\n",
    "                    epochs=10, \n",
    "                    callbacks=[es], \n",
    "                    batch_size=128)\n"
   ]
  },
  {
   "cell_type": "code",
   "execution_count": 24,
   "metadata": {},
   "outputs": [
    {
     "name": "stdout",
     "output_type": "stream",
     "text": [
      "WARNING:tensorflow:Layer lstm_1 was passed non-serializable keyword arguments: {'initial_state': [<tf.Tensor 'lstm/while/Exit_3:0' shape=(?, 500) dtype=float32>, <tf.Tensor 'lstm/while/Exit_4:0' shape=(?, 500) dtype=float32>]}. They will not be included in the serialized model (and thus will be missing at deserialization time).\n"
     ]
    }
   ],
   "source": [
    "# Save the model\n",
    "model_structure = results.model.to_json()\n",
    "with open(\"lstm_model1.json\", \"w\") as json_file:\n",
    "     json_file.write(model_structure)\n",
    "model.save_weights(\"lstm_weights1.h5\")\n",
    "\n",
    "# Reload the LSTM\n",
    "#from keras.models import model_from_json\n",
    "#with open(\"lstm_model1.json\", \"r\") as json_file:\n",
    "#    json_string = json_file.read()\n",
    "#model = model_from_json(json_string)\n",
    "#model.load_weights('lstm_weights1.h5')"
   ]
  },
  {
   "cell_type": "markdown",
   "metadata": {},
   "source": [
    "## Model Diagnostics"
   ]
  },
  {
   "cell_type": "code",
   "execution_count": 26,
   "metadata": {},
   "outputs": [
    {
     "data": {
      "text/plain": [
       "<matplotlib.axes._subplots.AxesSubplot at 0x1a26f17780>"
      ]
     },
     "execution_count": 26,
     "metadata": {},
     "output_type": "execute_result"
    },
    {
     "data": {
      "image/png": "[encoded data removed]",
      "text/plain": [
       "<Figure size 864x432 with 1 Axes>"
      ]
     },
     "metadata": {},
     "output_type": "display_data"
    }
   ],
   "source": [
    "# Let's see how the val_loss changes over the epochs\n",
    "\n",
    "sns.set_style(\"darkgrid\")\n",
    "sns.set(font_scale = 1.5)\n",
    "plt.figure(figsize=(12, 6))\n",
    "\n",
    "sns.lineplot(x = list(range(1,11)), y = results.history['loss'], label='train') \n",
    "sns.lineplot(x = list(range(1,11)), y = results.history['val_loss'], label='test') "
   ]
  },
  {
   "cell_type": "markdown",
   "metadata": {},
   "source": [
    "## Model Summary Output (Inference)"
   ]
  },
  {
   "cell_type": "code",
   "execution_count": 27,
   "metadata": {},
   "outputs": [],
   "source": [
    "# Next, let’s build the dictionary to convert the index to words for the target and source vocabulary:\n",
    "reverse_target_word_index=y_tokenizer.index_word\n",
    "reverse_source_word_index=x_tokenizer.index_word\n",
    "target_word_index=y_tokenizer.word_index"
   ]
  },
  {
   "cell_type": "code",
   "execution_count": 28,
   "metadata": {},
   "outputs": [],
   "source": [
    "# Set up the inference for the encoder and decoder\n",
    "\n",
    "# Encode the input sequence to get the feature vector\n",
    "encoder_model = Model(inputs=encoder_inputs,outputs=[encoder_outputs, state_h, state_c])\n",
    "\n",
    "# Decoder setup\n",
    "# Below tensors will hold the states of the previous time step\n",
    "decoder_state_input_h = Input(shape=(latent_dim,))\n",
    "decoder_state_input_c = Input(shape=(latent_dim,))\n",
    "decoder_hidden_state_input = Input(shape=(max_len_body,latent_dim))\n",
    "\n",
    "# Get the embeddings of the decoder sequence\n",
    "dec_emb2= dec_emb_layer(decoder_inputs) \n",
    "# To predict the next word in the sequence, set the initial states to the states from the previous time step\n",
    "decoder_outputs2, state_h2, state_c2 = decoder_lstm(dec_emb2, initial_state=[decoder_state_input_h, \n",
    "                                                                             decoder_state_input_c])\n",
    "\n",
    "#attention inference\n",
    "attn_out_inf, attn_states_inf = attn_layer([decoder_hidden_state_input, decoder_outputs2])\n",
    "decoder_inf_concat = Concatenate(axis=-1, name='concat')([decoder_outputs2, attn_out_inf])\n",
    "\n",
    "# A dense softmax layer to generate prob dist. over the target vocabulary\n",
    "decoder_outputs2 = decoder_dense(decoder_inf_concat) \n",
    "\n",
    "# Final decoder model\n",
    "decoder_model = Model(\n",
    "    [decoder_inputs] + [decoder_hidden_state_input,decoder_state_input_h, decoder_state_input_c],\n",
    "    [decoder_outputs2] + [state_h2, state_c2])"
   ]
  },
  {
   "cell_type": "code",
   "execution_count": 44,
   "metadata": {},
   "outputs": [],
   "source": [
    "# Defining a function below which is the implementation of the inference process \n",
    "\n",
    "def decode_sequence(input_seq):\n",
    "    # Encode the input as state vectors.\n",
    "    e_out, e_h, e_c = encoder_model.predict(input_seq)\n",
    "    \n",
    "    # Generate empty target sequence of length 1.\n",
    "    target_seq = np.zeros((1,1))\n",
    "    \n",
    "    # Populate the first word of target sequence with the start word.\n",
    "    target_seq[0, 0] = target_word_index['lazap']\n",
    "\n",
    "    stop_condition = False\n",
    "    decoded_sentence = ''\n",
    "    while not stop_condition:\n",
    "      \n",
    "        output_tokens, h, c = decoder_model.predict([target_seq] + [e_out, e_h, e_c])\n",
    "\n",
    "        # Sample a token\n",
    "        sampled_token_index = np.argmax(output_tokens[0, -1, :])\n",
    "        sampled_token = reverse_target_word_index[sampled_token_index]\n",
    "        \n",
    "        if(sampled_token!='pazal'):\n",
    "            decoded_sentence += ' '+sampled_token\n",
    "\n",
    "        # Exit condition: either hit max length or find stop word.\n",
    "        if (sampled_token == 'pazal'  or len(decoded_sentence.split()) >= (max_len_summary-1)):\n",
    "            stop_condition = True\n",
    "\n",
    "        # Update the target sequence (of length 1).\n",
    "        target_seq = np.zeros((1,1))\n",
    "        target_seq[0, 0] = sampled_token_index\n",
    "\n",
    "        # Update internal states\n",
    "        e_h, e_c = h, c\n",
    "\n",
    "    return decoded_sentence"
   ]
  },
  {
   "cell_type": "code",
   "execution_count": null,
   "metadata": {},
   "outputs": [],
   "source": [
    "# Defining a function below which is the implementation of the inference process \n",
    "\n",
    "# def decode_sequence_debug(input_seq):\n",
    "#     # Encode the input as state vectors.\n",
    "#     e_out, e_h, e_c = encoder_model.predict(input_seq)\n",
    "    \n",
    "#     print(\"e_out: \", e_out)\n",
    "#     print(\"e_h: \", e_h)\n",
    "#     print(\"e_c: \", e_c)\n",
    "    \n",
    "#     # Generate empty target sequence of length 1.\n",
    "#     target_seq = np.zeros((1,1))\n",
    "    \n",
    "#     print(\"target_seq: \", target_seq)\n",
    "    \n",
    "#     # Populate the first word of target sequence with the start word.\n",
    "#     target_seq[0, 0] = target_word_index['lazap']\n",
    "    \n",
    "#     print(\"target_seq[0, 0]: \", target_seq[0, 0])\n",
    "\n",
    "#     stop_condition = False\n",
    "#     decoded_sentence = ''\n",
    "#     while not stop_condition:\n",
    "      \n",
    "#         output_tokens, h, c = decoder_model.predict([target_seq] + [e_out, e_h, e_c])\n",
    "\n",
    "#         print(\"output_tokens: \", output_tokens)\n",
    "#         print(\"h: \", h)\n",
    "#         print(\"c: \", c)\n",
    "        \n",
    "#         # Sample a token\n",
    "#         sampled_token_index = np.argmax(output_tokens[0, -1, :])\n",
    "#         sampled_token = reverse_target_word_index[sampled_token_index]\n",
    "        \n",
    "#         print(\"sampled_token_index: \", sampled_token_index)\n",
    "#         print(\"sampled_token: \", sampled_token)\n",
    "        \n",
    "#         if(sampled_token!='pazal'):\n",
    "#             decoded_sentence += ' '+sampled_token\n",
    "\n",
    "#         # Exit condition: either hit max length or find stop word.\n",
    "#         if (sampled_token == 'pazal' or len(decoded_sentence.split()) >= (max_len_summary-1)):\n",
    "#             stop_condition = True\n",
    "            \n",
    "#         print(\"decoded_sentence: \", decoded_sentence)\n",
    "\n",
    "#         # Update the target sequence (of length 1).\n",
    "#         target_seq = np.zeros((1,1))\n",
    "#         target_seq[0, 0] = sampled_token_index\n",
    "        \n",
    "#         print(\"target_seq: \", decoded_sentence)\n",
    "\n",
    "#         # Update internal states\n",
    "#         e_h, e_c = h, c\n",
    "\n",
    "#         print(\"e_h: \", e_h)\n",
    "#         print(\"e_c: \", e_c)\n",
    "        \n",
    "#     return decoded_sentence"
   ]
  },
  {
   "cell_type": "code",
   "execution_count": 41,
   "metadata": {},
   "outputs": [],
   "source": [
    "# Let us define the functions to convert an integer sequence to a word sequence for summary as well as the reviews\n",
    "\n",
    "def seq2summary(input_seq):\n",
    "    newString=''\n",
    "    for i in input_seq:\n",
    "        if((i!=0 and i!=target_word_index['lazap']) and i!=target_word_index['pazal']):\n",
    "            newString=newString+reverse_target_word_index[i]+' '\n",
    "    return newString\n",
    "\n",
    "def seq2text(input_seq):\n",
    "    newString=''\n",
    "    for i in input_seq:\n",
    "        if(i!=0):\n",
    "            newString=newString+reverse_source_word_index[i]+' '\n",
    "    return newString\n"
   ]
  },
  {
   "cell_type": "code",
   "execution_count": 49,
   "metadata": {
    "scrolled": false
   },
   "outputs": [
    {
     "name": "stdout",
     "output_type": "stream",
     "text": [
      "Abstract: monoclonal antibody reacts specifically extracellular domain erbb member epidermal growth factor receptor family previous study constructed single chain chimeric antibody assembled using single chain antibody human igg fragment study expressed chimeric antibody using cho system developed simple efficient method purification one step using affinity purification recovery rate purity antibody attained respectively second step using reverse phase hplc purification purity high purity recombinant antibody allowed identify number intrinsic molecular properties including antigen binding activity measurement affinity constant terminal sequencing mass spectrometer analysis results augment potential recombinant antibody drug candidate cancer therapy \n",
      "\n",
      "\n",
      "Original Title: cells illnesses rate without experiments many years remains cultivation however patients \n",
      "\n",
      "\n",
      "Predicted Title:  effect effects effects cell\n",
      "\n",
      "\n",
      "Abstract: seven dissected investigate origin course branches distribution accessory nerve nerve cranial cervical region spinal root external branch accessory nerve present communicating branch dorsal root first cervical nerve root nerve muscle second cervical nerve trapezius muscles supplied sixth seventh cervical nerves head cranial cervical region nerve gave branch pharyngeal branch cranial nerve common trunk trachea communicating branches connecting first cervical nerves cranial cervical ganglion \n",
      "\n",
      "\n",
      "Original Title: cells alloy acids acids infected whether patients \n",
      "\n",
      "\n",
      "Predicted Title:  effect effects effects cell\n",
      "\n",
      "\n",
      "Abstract: noninvasive studies performed patients suspected cerebrovascular disease underwent arteriography providing comparison carotid comparison pulse delay comparison pulsed doppler ultrasonic sensitive test detecting internal carotid stenoses results three tests combined sensitivity specificity disease carotid ninety percent stenoses stenoses detected combination identified patients disease combined studies identified carotid endarterectomies performed patients positive patients undergoing surgery combined testing positive study suggests noninvasive tests capable identifying patients need carotid endarterectomy \n",
      "\n",
      "\n",
      "Original Title: cells selected core conservative using evaluating death patients \n",
      "\n",
      "\n",
      "Predicted Title:  effect effects effects cell\n",
      "\n",
      "\n",
      "Abstract: significant physiological activity inhibitor causes lysosomal storage disease alters glycoprotein processing found number plant species worldwide causes severe plants leading chronic wasting disease characterized weight loss depression altered behavior decreased infertility death detected species north america thin layer chromatography gas chromatography mass spectrometry liquid chromatography mass spectrometry bean inhibition assay addition species north america presumed contain based upon reports field cases many plant species analyzed using modern gas liquid chromatography coupled mass spectrometry provide species representing taxa species representing taxa screened using liquid chromatography mass spectrometry gas chromatography mass spectrometry detected taxa representing species taxa representing species forty fifty three positive taxa determined contain previously using liquid gas chromatography coupled mass spectrometry list containing taxa reported serve reference risk assessment diagnostic purposes \n",
      "\n",
      "\n",
      "Original Title: cells research hand exhibited patients \n",
      "\n",
      "\n",
      "Predicted Title:  effect effects effects cell\n",
      "\n",
      "\n",
      "Abstract: understand features dissemination malignant gliomas total consecutive patients treated analysed twenty two patients dissemination patients dissemination diagnosed eleven patients neurological deficits due dissemination whereas without evidence dissemination peak incidence dissemination seen first second decades life mean age patients dissemination years significantly lower patients without dissemination fifteen patients developed dissemination within one year diagnosis less years age patients late dissemination underwent second craniotomy tumour removal dissemination none patients early dissemination survival diagnosis patients dissemination shorter although statistically significant patients without dissemination survival dissemination limited patients immunohistochemical study revealed disseminated tumour expressed less glial fibrillary acidic protein primary tumour results suggest dissemination seem result extended survival patients may occur time malignant gliomas malignant gliomas especially younger patients capability acquire biological characteristics suitable dissemination earlier stage disease \n",
      "\n",
      "\n",
      "Original Title: cells eventually mutations tremor stratification membrane stage patients \n",
      "\n",
      "\n",
      "Predicted Title:  effect effects effects cell\n",
      "\n",
      "\n",
      "Abstract: prediction coronary heart disease stroke total low density lipoprotein cholesterol older persons remains study tests hypothesis cholesterol risk factors may differentially predictive chd stroke older persons different age groups chd stroke outcomes recorded months follow cohort men women years older chd events stroke events using cox proportional hazards outcomes modelled total cohort age groups years total cholesterol ldl cholesterol serum apo total cholesterol high density lipoprotein cholesterol apo apo significant predictors chd total cohort significant sub group years respective hazard ratios similar findings applicable respect stroke age group years total cholesterol predicted chd men threshold value mmol women mmol stroke prediction incremental risk factors hdl cholesterol triglycerides lipoprotein diabetes hypertension smoking predicted chd although hdl hypertension similarly predicted stroke findings support case cholesterol testing older subjects years evidence chd stroke prevention treatment designed reduce ldl cholesterol \n",
      "\n",
      "\n",
      "Original Title: cells mothers rhendostatin site whereas may medications heart patients \n",
      "\n",
      "\n",
      "Predicted Title:  effect effects effects cell\n",
      "\n",
      "\n",
      "Abstract: studied changes bacterial community composition bacterial biomass production succession along longitudinal axis shaped highly reservoir two sampling campaigns april july longitudinal changes river dam area reservoir detected using oligonucleotide probes targeted kingdom bacteria alpha beta gamma subclasses class proteobacteria cluster general loaded river highly abundant bacterial populations induced clearly distinguishable longitudinal succession structure microbial food web dynamic changes microbial parameters occurred point mixing area river water reservoir changes within members beta important determining changes bacterial abundance biomass much less relevant changes occurred within less abundant bacteria point downstream described significant shift form decreased proportions beta shift spatially highest values heterotrophic dominated throughout reservoir without marked longitudinal changes mean cell volume contrast large cells beta clearly dominated bacterial biomass brought river beta showed marked downstream trend decreasing mean cell volume conclude observed shift longitudinal shift food web structure resulted highly complex interactions brought several major factors varying hydrology high localized input organic matter brought river downstream changing substrate availability selective \n",
      "\n",
      "\n",
      "Original Title: cells blood source even deficits conditions high global illustrate recombinant composition patients \n",
      "\n",
      "\n",
      "Predicted Title:  effect effects effects cell\n",
      "\n",
      "\n",
      "Abstract: accurate prognostic evaluation patients multiple myeloma required stratification adequate therapy chromosomal banding interphase fluorescence situ hybridization cell nonspecific samples myeloma cells selected magnetic activated cell separation used study samples multiple myeloma patients bone marrow samples analysed using three approaches standard mitotic samples prepared analysed banding interphase fish performed detect deletion unselected cells parallel myeloma cells selected using specific antibody high purity myeloma cell suspension analysed interphase fish deletion magnetic separation yielded enriched myeloma cell mean viability purity detected morphologically detected cells interphase fish revealed deletion cell nonspecific samples enriched myeloma cell conclusion interphase fish selected cells increases detection deletion samples patients \n",
      "\n",
      "\n",
      "Original Title: cells present hepatitis mean used development results patients \n",
      "\n",
      "\n"
     ]
    },
    {
     "name": "stdout",
     "output_type": "stream",
     "text": [
      "Predicted Title:  effect effects effects cell\n",
      "\n",
      "\n",
      "Abstract: although great strides recently made understanding relational consequences one significant limitation lack prospective studies present research addressed issue identifying assessing groups aggressive physically aggressive plus physically aggressive children third grade year elementary school year later fourth grade two aspects social psychological adjustment assessed assessment periods including difficulties problems revealed strongest predictor future social psychological adjustment problems increases problems third fourth combination relational physical relational also contributed unique information relative physical prediction future implications findings future research prevention efforts particularly aggressive girls discussed \n",
      "\n",
      "\n",
      "Original Title: cells recombinant treatment recipients risk becoming presently patients \n",
      "\n",
      "\n",
      "Predicted Title:  effect effects effects cell\n",
      "\n",
      "\n",
      "Abstract: used chinese traditional medicine thousands years polysaccharide regarded major bioactive substances delineate underlying mechanism signaling cascade involved immunomodulatory property polysaccharide specifically study designed examine possibility candidate receptor interacted polysaccharide elucidate role reactive oxygen species induced tumor necrosis factor production macrophage activation flow cytometric confocal laser scanning microscopy analysis showed fluorescence labeled bind specifically macrophages moreover stimulated tnf secretion peritoneal macrophages mice mice tnf production suppressed anti mab furthermore ros production mediated nadph oxidase derived ros act upstream phosphoinositide kinase akt mitogen activated protein kinases nuclear factor signaling pathway regulation stimulated tnf production taken together conclude induces tnf secretion ros akt mapks pathways macrophage activation findings provide molecular basis potential novel immunomodulatory agent \n",
      "\n",
      "\n",
      "Original Title: cells regulated found groups lung sequence high use egf time mass aimed alpha patients \n",
      "\n",
      "\n",
      "Predicted Title:  effect effects effects cell\n",
      "\n",
      "\n"
     ]
    }
   ],
   "source": [
    "# A few summaries generated by the model\n",
    "\n",
    "for i in range(0,100,10):\n",
    "    print(\"Abstract:\",seq2text(x_test[i]))\n",
    "    print(\"\\n\")\n",
    "    print(\"Original Title:\",seq2text(y_test[i]))\n",
    "    print(\"\\n\")\n",
    "    print(\"Predicted Title:\",decode_sequence(x_test[i].reshape(1,max_len_body)))\n",
    "    print(\"\\n\")"
   ]
  },
  {
   "cell_type": "markdown",
   "metadata": {},
   "source": [
    "## Sources:\n",
    "\n",
    "* *'Natural Language Processing in Action' by Hobson Lane, Cole Howard, Hannes Hapke* \n",
    "* *'Neural Machine Translation By Jointly Learning to Align and Translate' by Dzmitry Bahdanau, KyungHyun Cho, Yoshua Bengio*\n",
    "* *'Data-driven Summarization of Scientific Articles' by Nikola I. Nikolov, Michael Pfeiffer, Richard H.R. Hahnloser*\n",
    "* *'Order-Embeddings of Images and Language' by Ivan Vendrov, Ryan Kiros, Sanja Fidler, Raquel Urtasun* \n"
   ]
  },
  {
   "cell_type": "markdown",
   "metadata": {},
   "source": [
    "## Potential Improvementss:\n",
    "\n",
    "* Train on a GPU and use a generator to read in the data\n",
    "* Incorporate word embeddings\n",
    "* Use more LSTM layers/neurons\n",
    "* More training data\n",
    "* Word embedding such as Word2vec\n"
   ]
  }
 ],
 "metadata": {
  "kernelspec": {
   "display_name": "Python 3",
   "language": "python",
   "name": "python3"
  },
  "language_info": {
   "codemirror_mode": {
    "name": "ipython",
    "version": 3
   },
   "file_extension": ".py",
   "mimetype": "text/x-python",
   "name": "python",
   "nbconvert_exporter": "python",
   "pygments_lexer": "ipython3",
   "version": "3.6.8"
  }
 },
 "nbformat": 4,
 "nbformat_minor": 2
}
