{
 "cells": [
  {
   "cell_type": "markdown",
   "metadata": {},
   "source": [
    "This file serves as a list of 'all' generic drug names currently on the market. This list is *assumed* to be complete but the possibility of it not being so must be kept in mind. The list was scraped from the [needymeds.org](https://www.needymeds.org/generic-drug/list/A) website. The list is purported to be regularly updated and includes 4,124 generic drug names as of January 2, 2019. Although, it is noted on the website that names are removed and added often."
   ]
  },
  {
   "cell_type": "code",
   "execution_count": 1,
   "metadata": {},
   "outputs": [],
   "source": [
    "import requests\n",
    "import re\n",
    "import string\n",
    "from bs4 import BeautifulSoup"
   ]
  },
  {
   "cell_type": "code",
   "execution_count": 2,
   "metadata": {},
   "outputs": [],
   "source": [
    "# Extracting only the generic names off of each page and writing it to a text file\n",
    "\n",
    "my_file = open(\"generic_name_list.txt\",\"w\") # Opening a text file\n",
    "\n",
    "for i in list(string.ascii_uppercase):      # Uppercase letters of the English alphabet \n",
    "    \n",
    "    # Getting the data\n",
    "    url = \"https://www.needymeds.org/generic-drug/list/{}\".format(i)\n",
    "    r = requests.get(url)\n",
    "    \n",
    "    # Loading page into BeautifulSoup\n",
    "    soup = BeautifulSoup(r.text, 'html.parser') \n",
    "\n",
    "    # Getting the letter sub-pages\n",
    "    for a in soup.find_all('a', onclick = re.compile('letter_span&letter_from=')): # anchor with sub letter pages\n",
    "\n",
    "        s = str(a['onclick'])\n",
    "        s = s.split('/')[1]    \n",
    "        s = s[:-1]\n",
    "\n",
    "        new_url = 'https://www.needymeds.org/' + s\n",
    "        new_r = requests.get(new_url)\n",
    "        \n",
    "        new_soup = BeautifulSoup(new_r.text, 'html.parser') \n",
    "\n",
    "        # Parsing the drug names\n",
    "\n",
    "        div = new_soup.find('div', {'class':'subblock-content', 'id':'subblock-content'}) # main div tag of current letter page\n",
    "\n",
    "        for div in div.find_all('div'):                                   # accessing necesary div (doesn't have class or id)\n",
    "\n",
    "            for a in div.find_all('a', href = re.compile(\"javascript:ReverseDisplay\"), alt = False): # anchors w/ drug names\n",
    "                my_file.write(a.text.strip() + '\\n') # Writing the names to the text file\n",
    "\n",
    "my_file.close() # Closing the text file"
   ]
  }
 ],
 "metadata": {
  "kernelspec": {
   "display_name": "Python 3",
   "language": "python",
   "name": "python3"
  },
  "language_info": {
   "codemirror_mode": {
    "name": "ipython",
    "version": 3
   },
   "file_extension": ".py",
   "mimetype": "text/x-python",
   "name": "python",
   "nbconvert_exporter": "python",
   "pygments_lexer": "ipython3",
   "version": "3.6.5"
  }
 },
 "nbformat": 4,
 "nbformat_minor": 2
}
